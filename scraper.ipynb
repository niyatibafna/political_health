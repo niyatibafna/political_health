{
 "cells": [
  {
   "cell_type": "code",
   "execution_count": 4,
   "id": "cardiac-oregon",
   "metadata": {},
   "outputs": [],
   "source": [
    "import tweepy"
   ]
  },
  {
   "cell_type": "code",
   "execution_count": 5,
   "id": "worse-jonathan",
   "metadata": {},
   "outputs": [],
   "source": [
    "auth = tweepy.AppAuthHandler(\"kGrWwycJk7fF4dlgdB0TOZ7eL\", \"YSLSgjhPEVvBiXABg2GJvF6nF8rcYh6bu7tzi0p57LQAamkw16\")"
   ]
  },
  {
   "cell_type": "code",
   "execution_count": 19,
   "id": "7274c263",
   "metadata": {},
   "outputs": [],
   "source": [
    "api = tweepy.API(auth)\n",
    "\n",
    "full_tweet = api.get_status(20989442353274881, tweet_mode = \"extended\")"
   ]
  },
  {
   "cell_type": "code",
   "execution_count": 20,
   "id": "d5241a81",
   "metadata": {},
   "outputs": [
    {
     "name": "stdout",
     "output_type": "stream",
     "text": [
      "Huum enak lho turu neng pantai njuk neng masjid wakaka. Bakar2ane gatot ora duwe arang RT @ismailanshar: BgusMufti lho koe turu neng pantai?\n",
      "2010-12-31 23:47:27+00:00\n",
      "\n"
     ]
    }
   ],
   "source": [
    "print(full_tweet.full_text)\n",
    "print(full_tweet.created_at)\n",
    "print(full_tweet.user.location)\n"
   ]
  },
  {
   "cell_type": "code",
   "execution_count": 6,
   "id": "rational-dinner",
   "metadata": {},
   "outputs": [
    {
     "name": "stdout",
     "output_type": "stream",
     "text": [
      "RT @ashishsood_bjp: PM Modi Gets Grand Welcome In Varanasi, Breaks Security Protocol To Accept Gifts; Watch\n",
      "https://t.co/25UhFTJvWa\n",
      "\n",
      "via Na…\n",
      "है विश्वनाथ तेरी काशी\n",
      "रहे सदा यह अविनाशी\n",
      "\n",
      "है काशी का उत्कर्ष\n",
      "जय-जय भारतवर्ष… \n",
      "\n",
      "काशी के जनप्रतिनिधि, काशी के अपने Na… https://t.co/2PCbWgyqrE\n",
      "RT @AbhishBanerj: Did you know?\n",
      "\n",
      "95% of funding for St Stephens College comes from govt but 50% seats are reserved for Christians?\n",
      "\n",
      "Don't r…\n",
      "RT @indiantweeter: Sadhvi Ritambhara said Modi aur yogi ko meri Umar lag jaaye, people who don’t know about her should google. When she say…\n",
      "RT @mangellife29: @khanumarfa @radhikamadhu @AjoyAshirwad BJP Modi are going down they play any card people of india are aware of propagand…\n",
      "#KashiVishwanathDham\n",
      "PM Modi inspecting development work in Kashi way past midnight!\n",
      "https://t.co/HmkOPwce7D\n",
      "SIT की रिपोर्ट पर प्रियंका गांधी ने पीएम मोदी की मानसिकता को बताया किसान विरोधी https://t.co/mxdjQa6zBG\n",
      "@Akashde09353216 @updeshkb @rahulroushan Yeah when you can't find any other thing to say, just cry about Modi.\n",
      "Yes… https://t.co/rXSLJHUqX4\n",
      "#PMModi का काशी दौरा: ये वो 21 तस्वीरें, जो हमेशा रखी जाएंगी याद.... बन गईं हैं इतिहास \n",
      " #PMModiInVaranasi… https://t.co/sZKPo3rIKE\n",
      "RT @IndiaToday: UK High Court to hear fugitive Nirav Modi's case today\n",
      "#ITVideo| (@MunishPandeyy) https://t.co/4MhO3bn9nh\n",
      "RT @AmanKayamHai_: Char Dham Pariyojana cleared by SC today — Modi Govt sanctioned the construction of a modern and expansive all-weather C…\n",
      "RT @imrudrabha: We received off. receipts of our letter from the CBI &amp; NCB Hqrs on 9/12 related to\n",
      "\n",
      "• Case: SUSHANT WAS MURDERED (current t…\n",
      "RT @sujitnair90: ‘They are not proud of their PMs, we are’: Kerala HC on plea seeking removal of PM Modi’s pic from vaccine certificate\n",
      "\n",
      "A…\n",
      "In India : Modi - Shah\n",
      "In Punjab : Sukhbir - Majithia https://t.co/5g2e6oiwHB\n",
      "RT @amitmalviya: \"What is the problem if Prime Minister Modi's name is there on the vaccine certificate? You work at an Institute named aft…\n",
      "RT @iMac_too: \"I should be careful what I say\"\n",
      "\n",
      "One of India's greatest business leaders was circumspect while airing his opinion on Nehru…\n",
      "Prime Minister Narendra Modi of India dangerous nationalism and authoritarianism......... \n",
      "Senator of New South Wal… https://t.co/ryULY9rodS\n",
      "RT @NavroopSingh_: For it was less about Modi &amp; more about Baba Vishwanath. He is the real raja of Kasi. It was more seeing the cradle of o…\n",
      "RT @TOIIndiaNews: Tharoor-led par panel questions MeitY officials on Pegasus, hacking of PM Modi's Twitter handle: Sources https://t.co/Pv9…\n",
      "RT @Bjp4Ghaziabad: In Kashi, everything happens with the will of Mahadev: PM Modi\n",
      "https://t.co/LewfSk6QiY\n",
      "#KashiVishwanathDham https://t.co…\n"
     ]
    }
   ],
   "source": [
    "api = tweepy.API(auth)\n",
    "for tweet in tweepy.Cursor(api.search_tweets, q='modi').items(20):\n",
    "    print(tweet.text)"
   ]
  },
  {
   "cell_type": "code",
   "execution_count": null,
   "id": "dress-ireland",
   "metadata": {},
   "outputs": [],
   "source": []
  }
 ],
 "metadata": {
  "kernelspec": {
   "display_name": "Python 3 (ipykernel)",
   "language": "python",
   "name": "python3"
  },
  "language_info": {
   "codemirror_mode": {
    "name": "ipython",
    "version": 3
   },
   "file_extension": ".py",
   "mimetype": "text/x-python",
   "name": "python",
   "nbconvert_exporter": "python",
   "pygments_lexer": "ipython3",
   "version": "3.9.7"
  }
 },
 "nbformat": 4,
 "nbformat_minor": 5
}
